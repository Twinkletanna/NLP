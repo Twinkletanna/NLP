{
 "cells": [
  {
   "cell_type": "markdown",
   "metadata": {},
   "source": [
    "# Homework 5: Lexicons and Distributional Semantics\n",
    "\n",
    "This is due on **Friday, 11/10 (11pm)** \n",
    "\n",
    "## How to do this problem set\n",
    "\n",
    "Most of these questions require writing Python code and computing results, and the rest of them have textual answers.  Write all the textual answers in this document, show the output of your experiment in this document, and implement the functions in the `python` files. \n",
    "\n",
    "Submit a PDF of thie .ipynb to Gradescope, and the .ipynb and all python files to Moodle.\n",
    "\n",
    "The assignment has two parts:\n",
    " * In the first part, you will experiment with Turney's method to find word polarities in a twitter dataset, given some positive and negative seed words.\n",
    " * In the second part, you will experiment with distributional and vector semantics."
   ]
  },
  {
   "cell_type": "markdown",
   "metadata": {},
   "source": [
    "**Your Name: <>**\n",
    "\n",
    "**List collaborators, and how you collaborated, here:** (see our [grading and policies page](http://people.cs.umass.edu/~brenocon/inlp2017/grading.html) for details on our collaboration policy).\n",
    "\n",
    "* _Rheeya Uppal_ "
   ]
  },
  {
   "cell_type": "markdown",
   "metadata": {},
   "source": [
    "## Part 1: Lexicon semantics"
   ]
  },
  {
   "cell_type": "markdown",
   "metadata": {},
   "source": [
    "\n",
    "Recall that PMI of a pair of words, is defined as:\n",
    "\n",
    "$$PMI(x, y) = log\\frac{ P(x, y) }{ P(x)P(y)}$$\n",
    "\n",
    "The Turney mehod defines a word's polarity as:\n",
    "\n",
    "$$Polarity(word) = PMI(word, positive\\_word)−PMI(word, negative\\_word)$$\n",
    "\n",
    "where the joint probability $P(w, v)$ or, more specifically, $P(w\\ NEAR\\ v)$ is the probability of both being \"near\" each other.  We'll work with tweets, so it means: if you choose a tweet at random, what's the chance it contains both `w` and `v`?\n",
    "\n",
    "(If you look at the Turney method as explained in the SLP3 chapter, the \"hits\" function is a count of web pages that contain at least one instance of the two words occurring near each other.)\n",
    "\n",
    "The positive_word and negative_word terms are initially constructed by hand. For example: we might start with single positive word ('excellent') and a single negative word ('bad'). We can also have list of positive words ('excellent', 'perfect', 'love', ....) and list of negative words ('bad', 'hate', 'filthy',....)\n",
    "\n",
    "If we're using a seed list of multiple terms, just combine them into a single symbol, e.g. all the positive seed words get rewritten to POS_WORD (and similarly for NEG_WORD).  This $P(w, POS\\_WORD)$ effectively means the co-ocurrence of $w$ with any of the terms in the list.\n",
    "\n",
    "For this assignment, we will use twitter dataset which has 349378 tweets. These tweets are in the file named `tweets.txt`. These are the tweets of one day and filtered such that each tweet contains at least one of the seed words we've selected."
   ]
  },
  {
   "cell_type": "code",
   "execution_count": null,
   "metadata": {
    "collapsed": true
   },
   "outputs": [],
   "source": []
  },
  {
   "cell_type": "markdown",
   "metadata": {},
   "source": [
    "## Question 1 (15 points)\n",
    "\n",
    "The file `tweets.txt` contains around 349,378 tweets with one tweet per line.  It is a random sample of public tweets, which we tokenized with [twokenize.py's tokenizeRawTweetText()](https://github.com/myleott/ark-twokenize-py/blob/master/twokenize.py)). The text you see has a space between each token so you can just use `.split()` if you want.  We also filtered tweets to ones that included at least one term from one of these seed lists:\n",
    "* Positive seed list: [\"good\", \"nice\", \"love\", \"excellent\", \"fortunate\", \"correct\", \"superior\"]\n",
    "* Negative seed list: [\"bad\", \"nasty\", \"poor\", \"hate\", \"unfortunate\", \"wrong\", \"inferior\"]\n",
    "\n",
    "Each tweet contains at least one positive or negative seed word. Take a look at the file (e.g. `less' and `grep'). Implement the Turney's method to calculate polarity scores of all words.\n",
    "\n",
    "Some things to keep in mind:\n",
    "* Ignore the seed words (i.e. don't calculate the polarity of the seed words).\n",
    "* You may want to ignore the polarity of words beignning with `@` or `#`. \n",
    "\n",
    "We recommend that you write code in a python file, but it's up to you.\n",
    "\n",
    "QUESTION: You'll have to do something to handle zeros in the PMI equation. Please explain your and justify your decision about this."
   ]
  },
  {
   "cell_type": "markdown",
   "metadata": {},
   "source": [
    "**Answer**\n",
    "\n",
    "There might be certain words that occur alongside a positive word but not a negative word or vice-versa. So for this reason pseudocounts are required. I chose laplace smoothing with alpha=1."
   ]
  },
  {
   "cell_type": "markdown",
   "metadata": {},
   "source": [
    "$$PMI(x, y) = log\\frac{ P(x, y) +1 }{ P(x)P(y)+|V|}$$\n",
    "where |V| is the size of the vocaublary and alpha =1"
   ]
  },
  {
   "cell_type": "markdown",
   "metadata": {
    "collapsed": true
   },
   "source": [
    "## Question 2 (5 points)\n",
    "\n",
    "Print the top 50 most-positive words (i.e. inferred positive words) and the 50 most-negative words.\n",
    "\n",
    "Many of the words won't make sense.  Comment on at least two that do make sense, and at least two that don't.  Why do you think these are happening with this dataset and method?"
   ]
  },
  {
   "cell_type": "code",
   "execution_count": 2,
   "metadata": {
    "collapsed": true
   },
   "outputs": [],
   "source": [
    "%load_ext autoreload\n",
    "%autoreload 2"
   ]
  },
  {
   "cell_type": "code",
   "execution_count": 3,
   "metadata": {
    "collapsed": true
   },
   "outputs": [],
   "source": [
    "# Write code to print words here\n",
    "import  math\n",
    "#import nltk\n",
    "import operator\n",
    "from collections import defaultdict\n",
    "from sets import Set\n",
    "\n",
    "pos_seedlist=[\"good\", \"nice\", \"love\", \"excellent\", \"fortunate\", \"correct\", \"superior\"]\n",
    "neg_seedlist=[\"bad\", \"nasty\", \"poor\", \"hate\", \"unfortunate\", \"wrong\", \"inferior\"]\n",
    "\n",
    "sentences=open('/home/twinkle/NLP/hw3/tweets.txt').read().strip().split(\"\\n\")\n",
    "#one row\n",
    "#condition to ignore\n",
    "wordcounts=defaultdict(int)\n",
    "pair_counts=defaultdict(int)\n",
    "seedsum=defaultdict(float)\n",
    "pmi=defaultdict(float)\n",
    "polarity=defaultdict(float)\n",
    "total=0\n",
    "bow=Set()\n",
    "words=[]\n",
    "allwords=[]\n",
    "i=0\n",
    "i=0\n",
    "#bla=[]\n",
    "for sent in sentences:\n",
    "    print i    \n",
    "    i+=1\n",
    "    temp=sent.split(' ')\n",
    "    words+=temp\n",
    "    setwords=Set(temp)\n",
    "    bow=bow|setwords\n",
    "    for word in setwords:\n",
    "        word=word.lower()\n",
    "        wordcounts[word]+=1\n",
    "        condition=(word in pos_seedlist) or (word in neg_seedlist) or (word[0]=='@') or (word[0]=='#')  or (word[:5]=='https') or (word=='RT') or (word==':')\n",
    "        if not condition:\n",
    "            for seed in pos_seedlist:\n",
    "                if sent.find(seed) != -1 :\n",
    "                    pair_counts[(word,'pos')]+=1\n",
    "                    seedsum['pos']+=pair_counts[(word,'pos')]\n",
    "            for seed in neg_seedlist:\n",
    "                if sent.find(seed) != -1 :\n",
    "                    pair_counts[(word,'neg')]+=1\n",
    "                    seedsum['neg']+=pair_counts[(word,'pos')]\n",
    "total=seedsum['pos']+seedsum['neg']\n",
    "\n",
    "pmi={}\n",
    "print \"DONE PAIR_COUNTS\"\n",
    "for key in pair_counts.keys():\n",
    "    den=seedsum[key[1]]*wordcounts[key[0]]+len(pair_counts)\n",
    "    if den==0:\n",
    "        print seedsum[key[1]], wordcounts[key[0]],key\n",
    "    print float(total*pair_counts[key]+1)/den\n",
    "    pmi[key]=((total*pair_counts[key])+1)/den\n",
    "#    ppmi[key]=max(math.log(pmi),0)\n",
    "print \"DONE PMI\"\n",
    "\n",
    "\n",
    "\n",
    "#polarity\n",
    "for key in pair_counts.keys():\n",
    "    polarity[key[0]]=pmi[(key[0],'pos')]-pmi[(key[0],'neg')]\n",
    "    \n",
    "print polarity\n",
    "print\"\\n\\n\\n\"\n",
    "    \n",
    "sorted_polarity1=sorted(polarity.items(),key=operator.itemgetter(1))\n",
    "sorted_polarity2=sorted(polarity.items(),key=operator.itemgetter(1),reverse=True)\n",
    "print \"ACCENDING\",sorted_polarity1[:20]\n",
    "print \"REVERSE\",sorted_polarity2[:20]\n",
    "\n"
   ]
  },
  {
   "cell_type": "markdown",
   "metadata": {},
   "source": []
  },
  {
   "cell_type": "markdown",
   "metadata": {
    "collapsed": true
   },
   "source": [
    "### Textual answer here."
   ]
  },
  {
   "cell_type": "markdown",
   "metadata": {},
   "source": [
    "## Question 3 (5 points)\n",
    "\n",
    "Now filter out all the words which have total count < 500, and then print top 50 polarity words and bottom 50 polarity words. \n",
    "\n",
    "Choose some of the words from both the sets of 50 words you got above which accoording to you make sense. Again please note, you will find many words which don't make sense. Do you think these results are better than the results you got in Question-1? Explain why."
   ]
  },
  {
   "cell_type": "code",
   "execution_count": 4,
   "metadata": {
    "collapsed": true
   },
   "outputs": [],
   "source": [
    "# Write code to print words here\n",
    "\n",
    "\n",
    "############for 500\n",
    "\n",
    "\n",
    "for key in pair_counts.keys():\n",
    "    if pair_counts[key]<500:\n",
    "        pair_counts.pop(key,None)\n",
    "    else:\n",
    "        den=seedsum[key[1]]*wordcounts[key[0]]+len(pair_counts)\n",
    "        if den==0:\n",
    "            print seedsum[key[1]], wordcounts[key[0]],key\n",
    "        pmi=(total*pair_counts[key]+1)/den\n",
    "    #    ppmi[key]=max(math.log(pmi),0)\n",
    "print \"DONE PMI\"\n",
    "\n",
    "\n",
    "#polarity\n",
    "for key in pair_counts.keys():\n",
    "    polarity[key[0]]=pmi[(key[0],'pos')]-pmi[(key[0],'neg')]\n",
    "    \n",
    "print polarity\n",
    "print\"\\n\\n\\n\"\n",
    "    \n",
    "sorted_polarity1=sorted(polarity.items(),key=operator.itemgetter(1))\n",
    "sorted_polarity2=sorted(polarity.items(),key=operator.itemgetter(1),reverse=True)\n",
    "print \"ACCENDING\",sorted_polarity1[:20]\n",
    "print \"REVERSE\",sorted_polarity2[:20]\n"
   ]
  },
  {
   "cell_type": "code",
   "execution_count": null,
   "metadata": {
    "collapsed": true
   },
   "outputs": [],
   "source": []
  },
  {
   "cell_type": "markdown",
   "metadata": {},
   "source": [
    "### Textual answer here."
   ]
  },
  {
   "cell_type": "markdown",
   "metadata": {},
   "source": [
    "## Question 4 (5 points)\n",
    "\n",
    "Even after filtering out words with count < 500, many top-most and bottom-most polarity don't make sense. Identify what kind of words these are and what can be done to filter them out. You can read some tweets in the file to see what's happening. "
   ]
  },
  {
   "cell_type": "markdown",
   "metadata": {
    "collapsed": true
   },
   "source": [
    "### Textual answer here."
   ]
  },
  {
   "cell_type": "markdown",
   "metadata": {},
   "source": [
    "# Part-2: Distributional Semantics"
   ]
  },
  {
   "cell_type": "markdown",
   "metadata": {},
   "source": [
    "## Cosine Similarity"
   ]
  },
  {
   "cell_type": "markdown",
   "metadata": {},
   "source": [
    "Recall that, where $i$ indexes over the context types, cosine similarity is defined as follows. $x$ and $y$ are both vectors of context counts (each for a different word), where $x_i$ is the count of context $i$.\n",
    "\n",
    "$$cossim(x,y) = \\frac{ \\sum_i x_i y_i }{ \\sqrt{\\sum_i x_i^2} \\sqrt{\\sum_i y_i^2} }$$\n",
    "\n",
    "The nice thing about cosine similarity is that it is normalized: no matter what the input vectors are, the output is between 0 and 1. One way to think of this is that cosine similarity is just, um, the cosine function, which has this property (for non-negative $x$ and $y$). Another way to think of it is, to work through the situations of maximum and minimum similarity between two context vectors, starting from the definition above.\n",
    "\n",
    "Note: a good way to understand the cosine similarity function is that the numerator cares about whether the $x$ and $y$ vectors are correlated. If $x$ and $y$ tend to have high values for the same contexts, the numerator tends to be big. The denominator can be thought of as a normalization factor: if all the values of $x$ are really large, for example, dividing by the square root of their sum-of-squares prevents the whole thing from getting arbitrarily large. In fact, dividing by both these things (aka their norms) means the whole thing can’t go higher than 1.\n",
    "\n",
    "In this problem we'll work with vectors of raw context counts.  (As you know, this is not necessarily the best representation.)"
   ]
  },
  {
   "cell_type": "markdown",
   "metadata": {},
   "source": [
    "## Question 5 (5 points)\n",
    "\n",
    "See the file `nytcounts.university_cat_dog`, which contains context count vectors for three words: “dog”, “cat”, and “university”. These are immediate left and right contexts from a New York Times corpus. You can open the file in a text editor since it’s quite small. \n",
    "\n",
    "Write a function which takes context count dictionaries of two words and calculates cosine similarity between these two words. The function should return a number beween 0 and 1.  Briefly comment on whether the relative simlarities make sense.\n",
    "\n"
   ]
  },
  {
   "cell_type": "code",
   "execution_count": 2,
   "metadata": {},
   "outputs": [
    {
     "name": "stdout",
     "output_type": "stream",
     "text": [
      "file nytcounts.university_cat_dog has contexts for 3 words\n",
      "0.966891672715\n",
      "0.966891672715\n",
      "0.660442421144\n",
      "0.659230248969\n"
     ]
    }
   ],
   "source": [
    "import distsim; reload(distsim)\n",
    "word_to_ccdict = distsim.load_contexts(\"nytcounts.university_cat_dog\")\n",
    "\n",
    "\n",
    "\n",
    "print distsim.calculate_cosine('dog','cat',word_to_ccdict)\n",
    "print distsim.calculate_cosine('cat','dog',word_to_ccdict)\n",
    "print distsim.calculate_cosine('university','cat',word_to_ccdict)\n",
    "print distsim.calculate_cosine('dog','university',word_to_ccdict)\n",
    "\n",
    "\n",
    "\n",
    "# write code here to show output (i.e. cosine similarity between these words.)\n",
    "# We encourage you to write other functions in distsim.py itself. "
   ]
  },
  {
   "cell_type": "markdown",
   "metadata": {},
   "source": [
    "**Write your response here:**\n",
    "Yes the similarities make sense. The words 'dog' and 'cat' both represent animals and hence we can expect a higher similarity(closer to 1 than 0) compared to 'university' and 'dog' or  'university' and 'cat'. The latter pair doesn't have a common word or a sense like animals.\n",
    "\n",
    "\n"
   ]
  },
  {
   "cell_type": "markdown",
   "metadata": {},
   "source": [
    "\n",
    "## Question 6 (20 points)\n",
    "\n",
    "Explore similarities in `nytcounts.4k`, which contains context counts for about 4000 words in a sample of New York Times articles. The news data was lowercased and URLs were removed. The context counts are for the 2000 most common words in twitter, as well as the most common 2000 words in the New York Times. (But all context counts are from New York Times.) The context counts only contain contexts that appeared for more than one word.  The file has three tab-separate fields: the word, its count, and a JSON-encoded dictionary of its context counts.  You'll see it's just counts of the immediate left/right neighbors.\n",
    "\n",
    "Choose **six** words. For each, show the output of 20 nearest words (use cosine similarity as distance metric). Comment on whether the output makes sense. Comment on whether this approach to distributional similarity makes more or less sense for certain terms.\n",
    "Four of your words should be:\n",
    "\n",
    " * a name (for example: person, organization, or location)\n",
    " * a common noun\n",
    " * an adjective\n",
    " * a verb\n",
    "\n",
    "You may also want to try exploring further words that are returned from a most-similar list from one of these. You can think of this as traversing the similarity graph among words.\n",
    "\n",
    "*Implementation note:* \n",
    "On my laptop it takes several hundred MB of memory to load it into memory from the `load_contexts()` function. If you don’t have enough memory available, your computer will get very slow because the OS will start swapping. If you have to use a machine without that much memory available, you can instead implement in a streaming approach by using the `stream_contexts()` generator function to access the data; this lets you iterate through the data from disk, one vector at a time, without putting everything into memory. You can see its use in the loading function. (You could also alternatively use a key-value or other type of database, but that’s too much work for this assignment.)"
   ]
  },
  {
   "cell_type": "code",
   "execution_count": 5,
   "metadata": {},
   "outputs": [
    {
     "name": "stdout",
     "output_type": "stream",
     "text": [
      "file nytcounts.4k has contexts for 3648 words\n"
     ]
    }
   ],
   "source": [
    "import distsim; reload(distsim)\n",
    "import operator\n",
    "word_to_ccdict = distsim.load_contexts(\"nytcounts.4k\")\n",
    "###Provide your answer below; perhaps in another cell so you don't have to reload the data each time"
   ]
  },
  {
   "cell_type": "code",
   "execution_count": 26,
   "metadata": {},
   "outputs": [
    {
     "name": "stdout",
     "output_type": "stream",
     "text": [
      "three\n",
      "('three', 0.9999999999999998)\n",
      "('four', 0.9749468073763116)\n",
      "('seven', 0.9421338296520655)\n",
      "('two', 0.9389568595828977)\n",
      "('eight', 0.9367590971990057)\n",
      "('nine', 0.9157102516178117)\n",
      "('five', 0.9008175401540782)\n",
      "('six', 0.885848972136979)\n",
      "('several', 0.8068347540165448)\n",
      "('various', 0.5989985797397092)\n",
      "('south', 0.5750889013435223)\n",
      "('most', 0.5621031500111197)\n",
      "('ten', 0.5550365263003226)\n",
      "('corporate', 0.5537181603918324)\n",
      "('many', 0.5522872039535461)\n",
      "('other', 0.5472531121442308)\n",
      "('japanese', 0.5449717815901273)\n",
      "('early', 0.5445351060232407)\n",
      "('american', 0.5414345684691162)\n",
      "('western', 0.5322075315867072)\n",
      "disney\n",
      "('disney', 1.0)\n",
      "('microsoft', 0.5673368282508056)\n",
      "('google', 0.5657684330655411)\n",
      "('sony', 0.5568953141803903)\n",
      "('wal-mart', 0.5392594980908143)\n",
      "('nbc', 0.5247451393254923)\n",
      "('women', 0.5230723211787983)\n",
      "('israel', 0.5133133542476026)\n",
      "('iran', 0.5120532739846196)\n",
      "('apple', 0.5118707851796734)\n",
      "('ford', 0.5100990527639214)\n",
      "('russia', 0.5013274583496)\n",
      "('fifa', 0.49602403222221525)\n",
      "('abc', 0.4931485066528719)\n",
      "('amazon', 0.4926702817703445)\n",
      "('hamas', 0.49148394364964987)\n",
      "('dvd', 0.48934728283572)\n",
      "('cbs', 0.4884312878167767)\n",
      "('children', 0.4824210257118764)\n",
      "('poor', 0.4740127731749709)\n",
      "animal\n",
      "('animal', 1.0)\n",
      "('individual', 0.8513643244172956)\n",
      "('italian', 0.8390267176249004)\n",
      "('actor', 0.8212055099818567)\n",
      "('artist', 0.8192486707546999)\n",
      "('ugly', 0.8155177511904934)\n",
      "('emotional', 0.804983012686217)\n",
      "('empty', 0.8006220249273754)\n",
      "('old', 0.7917974405396182)\n",
      "('online', 0.7888120074138979)\n",
      "('international', 0.7877663007696096)\n",
      "('epic', 0.7827171983954605)\n",
      "('evil', 0.7805821212871538)\n",
      "('ad', 0.7789474538268196)\n",
      "('agreement', 0.7783972531942471)\n",
      "('architect', 0.775275964787199)\n",
      "('exclusive', 0.7736369520383469)\n",
      "('audience', 0.7675244529518307)\n",
      "('event', 0.7643698355003192)\n",
      "('independent', 0.7633607678965111)\n",
      "screaming\n",
      "('screaming', 0.9999999999999999)\n",
      "('honey', 0.8241049977076796)\n",
      "('restaurants', 0.8096569185858765)\n",
      "('cheese', 0.8095596071913783)\n",
      "('bath', 0.807699399625459)\n",
      "('dancing', 0.8067432499421726)\n",
      "('dry', 0.8018310591137233)\n",
      "('crying', 0.8007071433646202)\n",
      "('cats', 0.7969827476390628)\n",
      "('entertainment', 0.7967646098620011)\n",
      "('funny', 0.7956723062801883)\n",
      "('sweet', 0.7925663557981092)\n",
      "('tattoos', 0.7910629769246028)\n",
      "('wit', 0.7870137946322944)\n",
      "('sexy', 0.781635577142307)\n",
      "('happiness', 0.7786099804213334)\n",
      "('scary', 0.7768203246432525)\n",
      "('smart', 0.7760395229940243)\n",
      "('singing', 0.7737813083811631)\n",
      "('wood', 0.7688461943057809)\n",
      "japanese\n",
      "('japanese', 0.9999999999999998)\n",
      "('german', 0.9684295165042556)\n",
      "('russian', 0.9635491889826329)\n",
      "('british', 0.9609736885637117)\n",
      "('chinese', 0.9562106630104964)\n",
      "('french', 0.9475423723483576)\n",
      "('traditional', 0.9384640801461867)\n",
      "('second', 0.9189139925881556)\n",
      "('federal', 0.9133053240470103)\n",
      "('public', 0.9081458693472327)\n",
      "('u.s.', 0.907136964765771)\n",
      "('national', 0.9039451105477451)\n",
      "('movie', 0.9009144092846133)\n",
      "('basic', 0.9003078228755202)\n",
      "('local', 0.8992541820638864)\n",
      "('whole', 0.8940486916108885)\n",
      "('final', 0.8934960758972683)\n",
      "('state', 0.8928071667781916)\n",
      "('ball', 0.8902412253847062)\n",
      "('third', 0.8877487315932028)\n",
      "run\n",
      "('run', 0.9999999999999999)\n",
      "('play', 0.8294557512288445)\n",
      "('pass', 0.8216910938627551)\n",
      "('check', 0.8162232684225116)\n",
      "('ride', 0.7989349722346972)\n",
      "('change', 0.7948208943388932)\n",
      "('die', 0.7931694810532783)\n",
      "('break', 0.7907603048383679)\n",
      "('walk', 0.7905810621387207)\n",
      "('stand', 0.7899303074401766)\n",
      "('fit', 0.789408481592893)\n",
      "('stop', 0.7849904203171518)\n",
      "('drive', 0.7818294058252047)\n",
      "('kick', 0.7788446034543569)\n",
      "('cheat', 0.7775564508436121)\n",
      "('breathe', 0.7746948158172884)\n",
      "('gain', 0.7729961414183023)\n",
      "('push', 0.7717075606362599)\n",
      "('shoot', 0.7715601079949767)\n",
      "('address', 0.7708792354700749)\n"
     ]
    }
   ],
   "source": [
    "words=word_to_ccdict.keys()\n",
    "chosen_words=['three','disney','animal','screaming','japanese','run']\n",
    "#chosen_words=['run']\n",
    "for cword in chosen_words:\n",
    "    print cword\n",
    "    d={}\n",
    "    for word in words:\n",
    "        d[word]=distsim.calculate_cosine(cword,word,word_to_ccdict)\n",
    "    d_sorted=sorted(d.items(),key=operator.itemgetter(1),reverse=True)\n",
    "    for a in d_sorted[:20]:\n",
    "        print a"
   ]
  },
  {
   "cell_type": "markdown",
   "metadata": {},
   "source": [
    "## Question 7 (10 points)\n",
    "\n",
    "In the next several questions, you'll examine similarities in trained word embeddings, instead of raw context counts.\n",
    "\n",
    "See the file `nyt_word2vec.university_cat_dog`, which contains word embedding vectors pretrained by word2vec [1] for three words: “dog”, “cat”, and “university”, from the same corpus. You can open the file in a text editor since it’s quite small.\n",
    "\n",
    "Write a function which takes word embedding vectors of two words and calculates cossine similarity between these 2 words. The function should return a number beween -1 and 1. Briefly comment on whether the relative simlarities make sense. \n",
    "\n",
    "*Implementation note:*\n",
    "Notice that the inputs of this function are numpy arrays (v1 and v2). If you are not very familiar with the basic operation in numpy, you can find some examples in the basic operation section here:\n",
    "https://docs.scipy.org/doc/numpy-dev/user/quickstart.html\n",
    "\n",
    "If you know how to use Matlab but haven't tried numpy before, the following link should be helpful:\n",
    "https://docs.scipy.org/doc/numpy-dev/user/numpy-for-matlab-users.html\n",
    "\n",
    "[1] Mikolov, Tomas, et al. \"Distributed representations of words and phrases and their compositionality.\" NIPS 2013."
   ]
  },
  {
   "cell_type": "code",
   "execution_count": 7,
   "metadata": {},
   "outputs": [
    {
     "name": "stdout",
     "output_type": "stream",
     "text": [
      "dog dog 1.0\n",
      "dog cat 0.827517295965\n",
      "dog university -0.190753135501\n",
      "cat dog 0.827517295965\n",
      "cat cat 1.0\n",
      "cat university -0.205394745036\n",
      "university dog -0.190753135501\n",
      "university cat -0.205394745036\n",
      "university university 1.0\n"
     ]
    }
   ],
   "source": [
    "import distsim; reload(distsim)\n",
    "\n",
    "word_to_vec_dict = distsim.load_word2vec(\"nyt_word2vec.4k\")\n",
    "w=['dog','cat','university']\n",
    "for word1 in w:\n",
    "    for word2 in w:\n",
    "        print word1,word2,distsim.calculate_cosine2(word_to_vec_dict[word1],word_to_vec_dict[word2],word_to_vec_dict)\n",
    "\n",
    "# write code here to show output (i.e. cosine similarity between these words.)\n",
    "# We encourage you to write other functions in distsim.py itself. "
   ]
  },
  {
   "cell_type": "markdown",
   "metadata": {},
   "source": [
    "**Write your response here:**\n",
    "Yes the similarities make sense. The words dog and cat which are more similar than university and any other pair of words. The closer the value is to 1, the more similar the words are. 1 means high similarity, -1 mean least similarity.\n",
    "\n"
   ]
  },
  {
   "cell_type": "markdown",
   "metadata": {},
   "source": [
    "## Question 8 (20 points)\n",
    "\n",
    "Repeat the process you did in the question 6, but now use dense vector from word2vec. Comment on whether the outputs makes sense. Compare the outputs of using nearest words on word2vec and the outputs on sparse context vector (so we suggest you to use the same words in question 6). Which method works better on the query words you choose. Please brief explain why one method works better than other in each case.\n",
    "\n",
    "Not: we used the default parameters of word2vec in [gensim](https://radimrehurek.com/gensim/models/word2vec.html) to get word2vec word embeddings."
   ]
  },
  {
   "cell_type": "code",
   "execution_count": 8,
   "metadata": {
    "collapsed": true
   },
   "outputs": [],
   "source": [
    "import distsim\n",
    "word_to_vec_dict = distsim.load_word2vec(\"nyt_word2vec.4k\")\n",
    "###Provide your answer below"
   ]
  },
  {
   "cell_type": "code",
   "execution_count": 25,
   "metadata": {},
   "outputs": [
    {
     "name": "stdout",
     "output_type": "stream",
     "text": [
      "['screaming', 'japanese', 'run', 'three', 'disney', 'animal']\n",
      "Word:  screaming\n",
      "('screaming', 1.0000000000000002)\n",
      "('crying', 0.73219867891362722)\n",
      "('laughing', 0.6858685239083866)\n",
      "('smiling', 0.63642254060430448)\n",
      "('naked', 0.63235707262200502)\n",
      "('kissing', 0.63096127829583548)\n",
      "('singing', 0.6185438401954475)\n",
      "('drunk', 0.6180235507923999)\n",
      "('tears', 0.61701756914507955)\n",
      "('kisses', 0.60972622560174172)\n",
      "('hanging', 0.60084804045142592)\n",
      "('smiles', 0.59562358059815956)\n",
      "('bored', 0.59508589672160095)\n",
      "('walking', 0.59223123876312977)\n",
      "('hugs', 0.5874100756973708)\n",
      "('laughed', 0.58376950028770247)\n",
      "('sleeping', 0.58045970820584958)\n",
      "('dirty', 0.57537731332430064)\n",
      "('dancing', 0.57437367487493973)\n",
      "('crazy', 0.57376537236881631)\n",
      "Word:  japanese\n",
      "('japanese', 1.0)\n",
      "('italian', 0.75305258552760623)\n",
      "('chinese', 0.73367506007804639)\n",
      "('german', 0.72262678546585168)\n",
      "('french', 0.71189887975571409)\n",
      "('spanish', 0.70850130994606419)\n",
      "('british', 0.69558709025707188)\n",
      "('russian', 0.68758910212174851)\n",
      "('indian', 0.67078709251674173)\n",
      "('asian', 0.65793444234059373)\n",
      "('african', 0.64384836536365275)\n",
      "('american', 0.61658801375733119)\n",
      "('japan', 0.52296146947145838)\n",
      "('modern', 0.50755735615788666)\n",
      "('traditional', 0.49768677936806127)\n",
      "('india', 0.49752083121594126)\n",
      "('european', 0.49678164789315526)\n",
      "('vintage', 0.48971889356940862)\n",
      "('popular', 0.48131763921455012)\n",
      "('clothing', 0.47850378148313277)\n",
      "Word:  run\n",
      "('run', 1.0)\n",
      "('fly', 0.63554576154319142)\n",
      "('go', 0.63246785656211058)\n",
      "('pass', 0.59881821920646983)\n",
      "('runs', 0.59881276772168135)\n",
      "('move', 0.59322105021066307)\n",
      "('break', 0.57888601205074397)\n",
      "('start', 0.57630572905160227)\n",
      "('stay', 0.57064235681055731)\n",
      "('finish', 0.56906569814718189)\n",
      "('win', 0.56801580805859631)\n",
      "('drive', 0.56359546427447982)\n",
      "('walk', 0.55829720715216702)\n",
      "('push', 0.55094752165689109)\n",
      "('ride', 0.54386356220293131)\n",
      "('lead', 0.53503275773764103)\n",
      "('stick', 0.53379689393999874)\n",
      "('return', 0.53004357202313801)\n",
      "('hold', 0.5295712671828966)\n",
      "('turn', 0.52837150476280959)\n",
      "Word:  three\n",
      "('three', 1.0000000000000002)\n",
      "('four', 0.98059299748257556)\n",
      "('five', 0.96515651449747697)\n",
      "('two', 0.96176868441422025)\n",
      "('six', 0.95764678180957064)\n",
      "('eight', 0.93765865248744451)\n",
      "('seven', 0.93129910571228613)\n",
      "('nine', 0.91243281271472254)\n",
      "('several', 0.79797093427233623)\n",
      "('10', 0.70290920357037856)\n",
      "('few', 0.69274290041358433)\n",
      "('12', 0.67362186421483328)\n",
      "('100', 0.63749905319141298)\n",
      "('200', 0.63510511178688112)\n",
      "('20', 0.63238082502693349)\n",
      "('15', 0.62625648644746812)\n",
      "('45', 0.60963300216631333)\n",
      "('14', 0.6079634637651774)\n",
      "('35', 0.60250792517375984)\n",
      "('couple', 0.59866895140022491)\n",
      "Word:  disney\n",
      "('disney', 1.0000000000000002)\n",
      "('sony', 0.70286030015870204)\n",
      "('nbc', 0.63981450637356052)\n",
      "('microsoft', 0.58807433149843769)\n",
      "('cbs', 0.58470016058472307)\n",
      "('entertainment', 0.5811918226477093)\n",
      "('abc', 0.56525992602253661)\n",
      "('google', 0.551988787359036)\n",
      "('fox', 0.54128312039555815)\n",
      "('warner', 0.5241989422102985)\n",
      "('hollywood', 0.50473148232276854)\n",
      "('youtube', 0.50345702236336443)\n",
      "('dvd', 0.49156192531514342)\n",
      "('itunes', 0.48608567591387231)\n",
      "('cable', 0.4822395899546737)\n",
      "('t', 0.47508150461920828)\n",
      "('starbucks', 0.47368921463548519)\n",
      "('ford', 0.47224840185889938)\n",
      "('television', 0.46473877936318109)\n",
      "('ebay', 0.46270888912996871)\n",
      "Word:  animal\n",
      "('animal', 0.99999999999999989)\n",
      "('human', 0.64785445348718229)\n",
      "('animals', 0.63975831313636378)\n",
      "('adult', 0.62359504820372025)\n",
      "('brain', 0.57277611525569239)\n",
      "('disease', 0.55950584835670714)\n",
      "('skin', 0.54805395152082748)\n",
      "('alcohol', 0.54025195647830837)\n",
      "('everyday', 0.53904429844810886)\n",
      "('pet', 0.53177865505764343)\n",
      "('bird', 0.51446681540087325)\n",
      "('evil', 0.5135486251969078)\n",
      "('smoking', 0.51066048024771804)\n",
      "('electronic', 0.48629164479712383)\n",
      "('species', 0.4805497049587672)\n",
      "('blood', 0.47562905782714088)\n",
      "('absolute', 0.47365018837792983)\n",
      "('beauty', 0.46813731251828472)\n",
      "('individual', 0.46488819676594628)\n",
      "('makeup', 0.4593980539236554)\n"
     ]
    }
   ],
   "source": [
    "words=word_to_vec_dict.keys()\n",
    "chosen_words=['screaming','japanese','run','three','disney','animal']\n",
    "print chosen_words\n",
    "for cword in chosen_words:\n",
    "    d={}\n",
    "    print \"Word: \",cword\n",
    "    for word in words:\n",
    "        d[word]=distsim.calculate_cosine2(word_to_vec_dict[cword],word_to_vec_dict[word],word_to_vec_dict)\n",
    "    d_sorted=sorted(d.items(),key=operator.itemgetter(1),reverse=True)\n",
    "    for a in d_sorted[:20]:\n",
    "        print a"
   ]
  },
  {
   "cell_type": "markdown",
   "metadata": {},
   "source": [
    "The method with dense vectors from word2vec works better. This is because the quantity represented by word2vec better represents a 'distance' metric in the context of words. Whereas frequency of words is a poor metric. Cosine measures the similarity by seeing how similar the metrics of 'distance' is.\n",
    "\n",
    "three :Both methods produce good results but the second method produces better results which includes digits as well. Hence it is better.\n",
    "\n",
    "disney :Wrod2ved produces TV channel names as well which better qualifies what disney actually represents.\n",
    "\n",
    "animal :Both methods produce comparable results.\n",
    "\n",
    "Screaming: Word2vec works well and the contect counts do not produce results that are even half as good. This is because the fequency count of 'screaming' doesn't well represent a characteristic of the word which can be compared using cosine.\n",
    "\n",
    "Japanese: Both methods produce good results but the second method produces better results because of a similar reason as above.\n",
    "\n",
    "run :Word2vec produces more results which a verbs similar to running. Context counts produces main verbs but they are not all the same or similar to running."
   ]
  },
  {
   "cell_type": "markdown",
   "metadata": {},
   "source": [
    "## Question 9 (15 points)\n",
    "An interesting thing to try with word embeddings is analogical reasoning tasks. In the following example, it's intended to solve the analogy question \"king is to man as what is to woman?\", or in SAT-style notation,\n",
    "\n",
    "king : man :: ____ : woman\n",
    "\n",
    "Some research has proposed to use additive operations on word embeddings to solve the analogy: take the vector $(v_{king}-v_{man}+v_{woman})$ and find the most-similar word to it.  One way to explain this idea: if you take \"king\", get rid of its attributes/contexts it shares with \"man\", and add in the attributes/contexts of \"woman\", hopefully you'll get to a point in the space that has king-like attributes but the \"man\" ones replaced with \"woman\" ones.\n",
    "\n",
    "Show the output for 20 closest words you get by trying to solve that analogy with this method.  Did it work?\n",
    "\n",
    "Please come up with another analogical reasoning task (another triple of words), and output the answer using the same method. Comment on whether the output makes sense. If the output makes sense, explain why we can capture such relation between words using an unsupervised algorithm. Where does the information come from? On the other hand, if the output does not make sense, propose an explanation why the algorithm fails on this case.\n",
    "\n",
    "\n",
    "Note that the word2vec is trained in an unsupervised manner just with distributional statistics; it is interesting that it can apparently do any reasoning at all.  For a critical view, see [Linzen 2016](http://www.aclweb.org/anthology/W/W16/W16-2503.pdf).\n",
    "\n"
   ]
  },
  {
   "cell_type": "code",
   "execution_count": 14,
   "metadata": {},
   "outputs": [
    {
     "name": "stdout",
     "output_type": "stream",
     "text": [
      "('king', 0.73899645785637358)\n",
      "('queen', 0.72502863198579415)\n",
      "('princess', 0.57790010340102305)\n",
      "('prince', 0.56696239241698621)\n",
      "('lord', 0.53091939111112829)\n",
      "('royal', 0.52020329686379785)\n",
      "('woman', 0.51095444078929031)\n",
      "('mary', 0.49769814628352971)\n",
      "('mama', 0.49546963683192269)\n",
      "('daughter', 0.4937579465656014)\n",
      "('singer', 0.48983808201392826)\n",
      "('kim', 0.48835469524343844)\n",
      "('elizabeth', 0.48248484340535652)\n",
      "('girl', 0.47733829480775564)\n",
      "('grandma', 0.47699072668127218)\n",
      "('sister', 0.47030437182473761)\n",
      "('mother', 0.46942202883251716)\n",
      "('clark', 0.46824004740972941)\n",
      "('wedding', 0.4623362935603858)\n",
      "('husband', 0.45685118817885456)\n"
     ]
    }
   ],
   "source": [
    "# Write code to show output here.\n",
    "import numpy as np\n",
    "a=word_to_vec_dict['king']\n",
    "b=word_to_vec_dict['man']\n",
    "c=word_to_vec_dict['woman']\n",
    "final=np.add(np.subtract(a,b),c)\n",
    "d={}\n",
    "for word in words:\n",
    "    d[word]=distsim.calculate_cosine2(final,word_to_vec_dict[word],word_to_vec_dict)\n",
    "d_sorted=sorted(d.items(),key=operator.itemgetter(1),reverse=True)\n",
    "for a in d_sorted[:20]:\n",
    "    print a"
   ]
  },
  {
   "cell_type": "code",
   "execution_count": 17,
   "metadata": {},
   "outputs": [
    {
     "name": "stdout",
     "output_type": "stream",
     "text": [
      "('night', 0.9220362189833351)\n",
      "('morning', 0.75921385759763038)\n",
      "('evening', 0.74575515718484331)\n",
      "('afternoon', 0.74016504369220248)\n",
      "('day', 0.62556316875232776)\n",
      "('midnight', 0.58510039759843402)\n",
      "('weekend', 0.57986869129579033)\n",
      "('winter', 0.57258162994149642)\n",
      "('minute', 0.55953118512125166)\n",
      "('spring', 0.5455509774664643)\n",
      "('saturday', 0.54399630990896375)\n",
      "('sunday', 0.54231607557199923)\n",
      "('session', 0.53158190145575868)\n",
      "('sun', 0.52137887354492074)\n",
      "('summer', 0.51807871602735212)\n",
      "('season', 0.51642351240675521)\n",
      "('nights', 0.49947684815416871)\n",
      "('week', 0.49749944465101126)\n",
      "('fall', 0.48959808034124258)\n",
      "('pitch', 0.48491948584597788)\n"
     ]
    }
   ],
   "source": [
    "# Write code to show output here.\n",
    "a=word_to_vec_dict['night']\n",
    "b=word_to_vec_dict['moon']\n",
    "c=word_to_vec_dict['sun']\n",
    "final=np.add(np.subtract(a,b),c)\n",
    "d={}\n",
    "for word in words:\n",
    "    d[word]=distsim.calculate_cosine2(final,word_to_vec_dict[word],word_to_vec_dict)\n",
    "d_sorted=sorted(d.items(),key=operator.itemgetter(1),reverse=True)\n",
    "for a in d_sorted[:20]:\n",
    "    print a"
   ]
  },
  {
   "cell_type": "markdown",
   "metadata": {},
   "source": [
    "### Answer\n",
    "Yes the method did work. And this makes sense because you are trying to add the qualities(distance) of woman and subtracting the qualities(distance) of man in the word vector space. This will probably not work if the context counts were used.\n",
    "\n",
    "Proposed analogy-> night : moon :: ____ : sun\n",
    "\n",
    "Proposed answer -> morning or day\n",
    "\n",
    "The result of this analogy is morning and this is correct. It works because all the words night, moon and day are in the data and the analogy is straightforward. What we're trying to do here is capturing the essence of the the word pair night and moon and establishing a similar essence in another pair ? and sun."
   ]
  }
 ],
 "metadata": {
  "anaconda-cloud": {},
  "kernelspec": {
   "display_name": "Python 2",
   "language": "python",
   "name": "python2"
  },
  "language_info": {
   "codemirror_mode": {
    "name": "ipython",
    "version": 2
   },
   "file_extension": ".py",
   "mimetype": "text/x-python",
   "name": "python",
   "nbconvert_exporter": "python",
   "pygments_lexer": "ipython2",
   "version": "2.7.13"
  }
 },
 "nbformat": 4,
 "nbformat_minor": 1
}
